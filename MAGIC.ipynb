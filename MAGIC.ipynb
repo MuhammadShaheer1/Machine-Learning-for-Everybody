{
  "nbformat": 4,
  "nbformat_minor": 0,
  "metadata": {
    "colab": {
      "provenance": []
    },
    "kernelspec": {
      "name": "python3",
      "display_name": "Python 3"
    },
    "language_info": {
      "name": "python"
    }
  },
  "cells": [
    {
      "cell_type": "code",
      "execution_count": null,
      "metadata": {
        "id": "PXzJxXDTmwdz"
      },
      "outputs": [],
      "source": [
        "import numpy as np\n",
        "import pandas as pd\n",
        "import matplotlib.pyplot as plt\n",
        "from sklearn.preprocessing import StandardScaler\n",
        "from imblearn.over_sampling import RandomOverSampler"
      ]
    },
    {
      "cell_type": "code",
      "source": [
        "cols = [\"fLength\", \"fWidth\", \"fSize\", \"fConc\", \"fConc1\", \"fAsym\", \"fM3Long\", \"fM3Trans\", \"fAlpha\", \"fDist\", \"class\"]\n",
        "df = pd.read_csv('magic04.data', names=cols)\n",
        "df.head()"
      ],
      "metadata": {
        "colab": {
          "base_uri": "https://localhost:8080/",
          "height": 206
        },
        "id": "YqyLS9DKnElX",
        "outputId": "5104352e-6139-46fa-c9ac-ad0057197002"
      },
      "execution_count": null,
      "outputs": [
        {
          "output_type": "execute_result",
          "data": {
            "text/plain": [
              "    fLength    fWidth   fSize   fConc  fConc1     fAsym  fM3Long  fM3Trans  \\\n",
              "0   28.7967   16.0021  2.6449  0.3918  0.1982   27.7004  22.0110   -8.2027   \n",
              "1   31.6036   11.7235  2.5185  0.5303  0.3773   26.2722  23.8238   -9.9574   \n",
              "2  162.0520  136.0310  4.0612  0.0374  0.0187  116.7410 -64.8580  -45.2160   \n",
              "3   23.8172    9.5728  2.3385  0.6147  0.3922   27.2107  -6.4633   -7.1513   \n",
              "4   75.1362   30.9205  3.1611  0.3168  0.1832   -5.5277  28.5525   21.8393   \n",
              "\n",
              "    fAlpha     fDist class  \n",
              "0  40.0920   81.8828     g  \n",
              "1   6.3609  205.2610     g  \n",
              "2  76.9600  256.7880     g  \n",
              "3  10.4490  116.7370     g  \n",
              "4   4.6480  356.4620     g  "
            ],
            "text/html": [
              "\n",
              "  <div id=\"df-4c5ba423-506a-45fb-ae97-0d97867d3592\">\n",
              "    <div class=\"colab-df-container\">\n",
              "      <div>\n",
              "<style scoped>\n",
              "    .dataframe tbody tr th:only-of-type {\n",
              "        vertical-align: middle;\n",
              "    }\n",
              "\n",
              "    .dataframe tbody tr th {\n",
              "        vertical-align: top;\n",
              "    }\n",
              "\n",
              "    .dataframe thead th {\n",
              "        text-align: right;\n",
              "    }\n",
              "</style>\n",
              "<table border=\"1\" class=\"dataframe\">\n",
              "  <thead>\n",
              "    <tr style=\"text-align: right;\">\n",
              "      <th></th>\n",
              "      <th>fLength</th>\n",
              "      <th>fWidth</th>\n",
              "      <th>fSize</th>\n",
              "      <th>fConc</th>\n",
              "      <th>fConc1</th>\n",
              "      <th>fAsym</th>\n",
              "      <th>fM3Long</th>\n",
              "      <th>fM3Trans</th>\n",
              "      <th>fAlpha</th>\n",
              "      <th>fDist</th>\n",
              "      <th>class</th>\n",
              "    </tr>\n",
              "  </thead>\n",
              "  <tbody>\n",
              "    <tr>\n",
              "      <th>0</th>\n",
              "      <td>28.7967</td>\n",
              "      <td>16.0021</td>\n",
              "      <td>2.6449</td>\n",
              "      <td>0.3918</td>\n",
              "      <td>0.1982</td>\n",
              "      <td>27.7004</td>\n",
              "      <td>22.0110</td>\n",
              "      <td>-8.2027</td>\n",
              "      <td>40.0920</td>\n",
              "      <td>81.8828</td>\n",
              "      <td>g</td>\n",
              "    </tr>\n",
              "    <tr>\n",
              "      <th>1</th>\n",
              "      <td>31.6036</td>\n",
              "      <td>11.7235</td>\n",
              "      <td>2.5185</td>\n",
              "      <td>0.5303</td>\n",
              "      <td>0.3773</td>\n",
              "      <td>26.2722</td>\n",
              "      <td>23.8238</td>\n",
              "      <td>-9.9574</td>\n",
              "      <td>6.3609</td>\n",
              "      <td>205.2610</td>\n",
              "      <td>g</td>\n",
              "    </tr>\n",
              "    <tr>\n",
              "      <th>2</th>\n",
              "      <td>162.0520</td>\n",
              "      <td>136.0310</td>\n",
              "      <td>4.0612</td>\n",
              "      <td>0.0374</td>\n",
              "      <td>0.0187</td>\n",
              "      <td>116.7410</td>\n",
              "      <td>-64.8580</td>\n",
              "      <td>-45.2160</td>\n",
              "      <td>76.9600</td>\n",
              "      <td>256.7880</td>\n",
              "      <td>g</td>\n",
              "    </tr>\n",
              "    <tr>\n",
              "      <th>3</th>\n",
              "      <td>23.8172</td>\n",
              "      <td>9.5728</td>\n",
              "      <td>2.3385</td>\n",
              "      <td>0.6147</td>\n",
              "      <td>0.3922</td>\n",
              "      <td>27.2107</td>\n",
              "      <td>-6.4633</td>\n",
              "      <td>-7.1513</td>\n",
              "      <td>10.4490</td>\n",
              "      <td>116.7370</td>\n",
              "      <td>g</td>\n",
              "    </tr>\n",
              "    <tr>\n",
              "      <th>4</th>\n",
              "      <td>75.1362</td>\n",
              "      <td>30.9205</td>\n",
              "      <td>3.1611</td>\n",
              "      <td>0.3168</td>\n",
              "      <td>0.1832</td>\n",
              "      <td>-5.5277</td>\n",
              "      <td>28.5525</td>\n",
              "      <td>21.8393</td>\n",
              "      <td>4.6480</td>\n",
              "      <td>356.4620</td>\n",
              "      <td>g</td>\n",
              "    </tr>\n",
              "  </tbody>\n",
              "</table>\n",
              "</div>\n",
              "      <button class=\"colab-df-convert\" onclick=\"convertToInteractive('df-4c5ba423-506a-45fb-ae97-0d97867d3592')\"\n",
              "              title=\"Convert this dataframe to an interactive table.\"\n",
              "              style=\"display:none;\">\n",
              "        \n",
              "  <svg xmlns=\"http://www.w3.org/2000/svg\" height=\"24px\"viewBox=\"0 0 24 24\"\n",
              "       width=\"24px\">\n",
              "    <path d=\"M0 0h24v24H0V0z\" fill=\"none\"/>\n",
              "    <path d=\"M18.56 5.44l.94 2.06.94-2.06 2.06-.94-2.06-.94-.94-2.06-.94 2.06-2.06.94zm-11 1L8.5 8.5l.94-2.06 2.06-.94-2.06-.94L8.5 2.5l-.94 2.06-2.06.94zm10 10l.94 2.06.94-2.06 2.06-.94-2.06-.94-.94-2.06-.94 2.06-2.06.94z\"/><path d=\"M17.41 7.96l-1.37-1.37c-.4-.4-.92-.59-1.43-.59-.52 0-1.04.2-1.43.59L10.3 9.45l-7.72 7.72c-.78.78-.78 2.05 0 2.83L4 21.41c.39.39.9.59 1.41.59.51 0 1.02-.2 1.41-.59l7.78-7.78 2.81-2.81c.8-.78.8-2.07 0-2.86zM5.41 20L4 18.59l7.72-7.72 1.47 1.35L5.41 20z\"/>\n",
              "  </svg>\n",
              "      </button>\n",
              "      \n",
              "  <style>\n",
              "    .colab-df-container {\n",
              "      display:flex;\n",
              "      flex-wrap:wrap;\n",
              "      gap: 12px;\n",
              "    }\n",
              "\n",
              "    .colab-df-convert {\n",
              "      background-color: #E8F0FE;\n",
              "      border: none;\n",
              "      border-radius: 50%;\n",
              "      cursor: pointer;\n",
              "      display: none;\n",
              "      fill: #1967D2;\n",
              "      height: 32px;\n",
              "      padding: 0 0 0 0;\n",
              "      width: 32px;\n",
              "    }\n",
              "\n",
              "    .colab-df-convert:hover {\n",
              "      background-color: #E2EBFA;\n",
              "      box-shadow: 0px 1px 2px rgba(60, 64, 67, 0.3), 0px 1px 3px 1px rgba(60, 64, 67, 0.15);\n",
              "      fill: #174EA6;\n",
              "    }\n",
              "\n",
              "    [theme=dark] .colab-df-convert {\n",
              "      background-color: #3B4455;\n",
              "      fill: #D2E3FC;\n",
              "    }\n",
              "\n",
              "    [theme=dark] .colab-df-convert:hover {\n",
              "      background-color: #434B5C;\n",
              "      box-shadow: 0px 1px 3px 1px rgba(0, 0, 0, 0.15);\n",
              "      filter: drop-shadow(0px 1px 2px rgba(0, 0, 0, 0.3));\n",
              "      fill: #FFFFFF;\n",
              "    }\n",
              "  </style>\n",
              "\n",
              "      <script>\n",
              "        const buttonEl =\n",
              "          document.querySelector('#df-4c5ba423-506a-45fb-ae97-0d97867d3592 button.colab-df-convert');\n",
              "        buttonEl.style.display =\n",
              "          google.colab.kernel.accessAllowed ? 'block' : 'none';\n",
              "\n",
              "        async function convertToInteractive(key) {\n",
              "          const element = document.querySelector('#df-4c5ba423-506a-45fb-ae97-0d97867d3592');\n",
              "          const dataTable =\n",
              "            await google.colab.kernel.invokeFunction('convertToInteractive',\n",
              "                                                     [key], {});\n",
              "          if (!dataTable) return;\n",
              "\n",
              "          const docLinkHtml = 'Like what you see? Visit the ' +\n",
              "            '<a target=\"_blank\" href=https://colab.research.google.com/notebooks/data_table.ipynb>data table notebook</a>'\n",
              "            + ' to learn more about interactive tables.';\n",
              "          element.innerHTML = '';\n",
              "          dataTable['output_type'] = 'display_data';\n",
              "          await google.colab.output.renderOutput(dataTable, element);\n",
              "          const docLink = document.createElement('div');\n",
              "          docLink.innerHTML = docLinkHtml;\n",
              "          element.appendChild(docLink);\n",
              "        }\n",
              "      </script>\n",
              "    </div>\n",
              "  </div>\n",
              "  "
            ]
          },
          "metadata": {},
          "execution_count": 3
        }
      ]
    },
    {
      "cell_type": "code",
      "source": [
        "df[\"class\"] = (df[\"class\"] == 'g').astype(int)"
      ],
      "metadata": {
        "id": "s60B5dKxoR5Z"
      },
      "execution_count": null,
      "outputs": []
    },
    {
      "cell_type": "code",
      "source": [
        "for label in cols[:-1]:\n",
        "  plt.hist(df[df[\"class\"] == 1][label], color='blue', label='gamma', alpha=0.7, density=True)\n",
        "  plt.hist(df[df[\"class\"] == 0][label], color='red', label='hadron', alpha=0.7, density=True)\n",
        "  plt.title(label)\n",
        "  plt.ylabel('Probability')\n",
        "  plt.xlabel(label)\n",
        "  plt.legend()\n",
        "  plt.show()"
      ],
      "metadata": {
        "id": "BbFslovEovVE"
      },
      "execution_count": null,
      "outputs": []
    },
    {
      "cell_type": "code",
      "source": [
        "train, valid, test = np.split(df.sample(frac=1), [int(0.6*len(df)), int(0.8*len(df))])"
      ],
      "metadata": {
        "id": "gCkdPManwC61"
      },
      "execution_count": null,
      "outputs": []
    },
    {
      "cell_type": "code",
      "source": [
        "def scale_dataset(dataframe, oversample=False):\n",
        "  X = dataframe[dataframe.columns[:-1]].values\n",
        "  y = dataframe[dataframe.columns[-1]].values\n",
        "\n",
        "  scaler = StandardScaler()\n",
        "  X = scaler.fit_transform(X)\n",
        "\n",
        "  if (oversample):\n",
        "    ros = RandomOverSampler()\n",
        "    X, y = ros.fit_resample(X, y)\n",
        "  \n",
        "  data = np.hstack((X, np.reshape(y, (-1, 1))))\n",
        "  return data, X, y"
      ],
      "metadata": {
        "id": "3B_34lFsxeM8"
      },
      "execution_count": null,
      "outputs": []
    },
    {
      "cell_type": "code",
      "source": [
        "train, X_train, y_train = scale_dataset(train, oversample=True)\n",
        "valid, X_valid, y_valid = scale_dataset(valid, oversample=False)\n",
        "test, X_test, y_test = scale_dataset(test, oversample=False)"
      ],
      "metadata": {
        "id": "MqX5WiON0b34"
      },
      "execution_count": null,
      "outputs": []
    },
    {
      "cell_type": "markdown",
      "source": [
        "**KNN**"
      ],
      "metadata": {
        "id": "68v64uzf-gZA"
      }
    },
    {
      "cell_type": "code",
      "source": [
        "from sklearn.neighbors import KNeighborsClassifier\n",
        "from sklearn.metrics import classification_report"
      ],
      "metadata": {
        "id": "fAdU8K4Q2Vwd"
      },
      "execution_count": null,
      "outputs": []
    },
    {
      "cell_type": "code",
      "source": [
        "knn_model = KNeighborsClassifier(n_neighbors=3)\n",
        "knn_model.fit(X_train, y_train)"
      ],
      "metadata": {
        "colab": {
          "base_uri": "https://localhost:8080/"
        },
        "id": "e201MCGv_Dim",
        "outputId": "8ee32b95-b00b-433d-a85b-1e4963c2a2ca"
      },
      "execution_count": null,
      "outputs": [
        {
          "output_type": "execute_result",
          "data": {
            "text/plain": [
              "KNeighborsClassifier(n_neighbors=3)"
            ]
          },
          "metadata": {},
          "execution_count": 9
        }
      ]
    },
    {
      "cell_type": "code",
      "source": [
        "y_pred = knn_model.predict(X_test)"
      ],
      "metadata": {
        "id": "M6DwGCEEEdyK"
      },
      "execution_count": null,
      "outputs": []
    },
    {
      "cell_type": "code",
      "source": [
        "print(classification_report(y_test, y_pred))"
      ],
      "metadata": {
        "colab": {
          "base_uri": "https://localhost:8080/"
        },
        "id": "K7nPXmQDEp7R",
        "outputId": "a34056f4-ff0a-47b0-82cb-369d42616472"
      },
      "execution_count": null,
      "outputs": [
        {
          "output_type": "stream",
          "name": "stdout",
          "text": [
            "              precision    recall  f1-score   support\n",
            "\n",
            "           0       0.73      0.74      0.74      1330\n",
            "           1       0.86      0.86      0.86      2474\n",
            "\n",
            "    accuracy                           0.81      3804\n",
            "   macro avg       0.80      0.80      0.80      3804\n",
            "weighted avg       0.81      0.81      0.81      3804\n",
            "\n"
          ]
        }
      ]
    },
    {
      "cell_type": "markdown",
      "source": [
        "### **Naive Bayes**"
      ],
      "metadata": {
        "id": "D7S6SJxB-YbH"
      }
    },
    {
      "cell_type": "code",
      "source": [
        "from sklearn.naive_bayes import GaussianNB"
      ],
      "metadata": {
        "id": "NCarTkk9FA9r"
      },
      "execution_count": null,
      "outputs": []
    },
    {
      "cell_type": "code",
      "source": [
        "nb_model = GaussianNB()\n",
        "nb_model = nb_model.fit(X_train, y_train)"
      ],
      "metadata": {
        "id": "Xcd6ysoQ-lh1"
      },
      "execution_count": null,
      "outputs": []
    },
    {
      "cell_type": "code",
      "source": [
        "y_pred = nb_model.predict(X_test)\n",
        "print(classification_report(y_test, y_pred))"
      ],
      "metadata": {
        "colab": {
          "base_uri": "https://localhost:8080/"
        },
        "id": "BVg-vM2q-147",
        "outputId": "29721298-0b44-4a74-bf97-bc26d8135770"
      },
      "execution_count": null,
      "outputs": [
        {
          "output_type": "stream",
          "name": "stdout",
          "text": [
            "              precision    recall  f1-score   support\n",
            "\n",
            "           0       0.70      0.41      0.52      1330\n",
            "           1       0.74      0.91      0.82      2474\n",
            "\n",
            "    accuracy                           0.73      3804\n",
            "   macro avg       0.72      0.66      0.67      3804\n",
            "weighted avg       0.73      0.73      0.71      3804\n",
            "\n"
          ]
        }
      ]
    },
    {
      "cell_type": "markdown",
      "source": [
        "### **Logistic Regression**"
      ],
      "metadata": {
        "id": "zV0yLIJ9BWYO"
      }
    },
    {
      "cell_type": "code",
      "source": [
        "from sklearn.linear_model import LogisticRegression"
      ],
      "metadata": {
        "id": "8BfVhxDU_EGT"
      },
      "execution_count": null,
      "outputs": []
    },
    {
      "cell_type": "code",
      "source": [
        "lg_model = LogisticRegression()\n",
        "lg_model = lg_model.fit(X_train, y_train)"
      ],
      "metadata": {
        "id": "Cc17KJdGBlmu"
      },
      "execution_count": null,
      "outputs": []
    },
    {
      "cell_type": "code",
      "source": [
        "y_pred = lg_model.predict(X_test)\n",
        "print(classification_report(y_test, y_pred))"
      ],
      "metadata": {
        "colab": {
          "base_uri": "https://localhost:8080/"
        },
        "id": "btXjEWszCB_m",
        "outputId": "2f5a2297-0a99-41f4-d10e-e60bb3ecd542"
      },
      "execution_count": null,
      "outputs": [
        {
          "output_type": "stream",
          "name": "stdout",
          "text": [
            "              precision    recall  f1-score   support\n",
            "\n",
            "           0       0.70      0.74      0.72      1330\n",
            "           1       0.86      0.83      0.84      2474\n",
            "\n",
            "    accuracy                           0.80      3804\n",
            "   macro avg       0.78      0.78      0.78      3804\n",
            "weighted avg       0.80      0.80      0.80      3804\n",
            "\n"
          ]
        }
      ]
    },
    {
      "cell_type": "markdown",
      "source": [
        "### **SVM**"
      ],
      "metadata": {
        "id": "DzvjJ2wCEU2F"
      }
    },
    {
      "cell_type": "code",
      "source": [
        "from sklearn.svm import SVC"
      ],
      "metadata": {
        "id": "Gf7h4RyWCOLw"
      },
      "execution_count": null,
      "outputs": []
    },
    {
      "cell_type": "code",
      "source": [
        "svm_model = SVC()\n",
        "svm_model = svm_model.fit(X_train, y_train)"
      ],
      "metadata": {
        "id": "A44P_6O_Ee-m"
      },
      "execution_count": null,
      "outputs": []
    },
    {
      "cell_type": "code",
      "source": [
        "y_pred = svm_model.predict(X_test)\n",
        "print(classification_report(y_test, y_pred))"
      ],
      "metadata": {
        "colab": {
          "base_uri": "https://localhost:8080/"
        },
        "id": "OqKR74ZTEwDb",
        "outputId": "9da1a528-ae8c-4e46-dcd6-62c9f12abbac"
      },
      "execution_count": null,
      "outputs": [
        {
          "output_type": "stream",
          "name": "stdout",
          "text": [
            "              precision    recall  f1-score   support\n",
            "\n",
            "           0       0.81      0.81      0.81      1330\n",
            "           1       0.90      0.90      0.90      2474\n",
            "\n",
            "    accuracy                           0.87      3804\n",
            "   macro avg       0.85      0.85      0.85      3804\n",
            "weighted avg       0.87      0.87      0.87      3804\n",
            "\n"
          ]
        }
      ]
    },
    {
      "cell_type": "markdown",
      "source": [
        "### **Neural Network**"
      ],
      "metadata": {
        "id": "itxgi5DtHryQ"
      }
    },
    {
      "cell_type": "code",
      "source": [
        "import tensorflow as tf"
      ],
      "metadata": {
        "id": "1glv1FR_E8cu"
      },
      "execution_count": null,
      "outputs": []
    },
    {
      "cell_type": "code",
      "source": [
        "def plot_history(history):\n",
        "  fig, (ax1, ax2) = plt.subplots(1, 2, figsize=(10, 4))\n",
        "  ax1.plot(history.history['loss'], label='loss')\n",
        "  ax1.plot(history.history['val_loss'], label='val_loss')\n",
        "  ax1.set_xlabel('Epoch')\n",
        "  ax1.set_ylabel('Binary crossentropy')\n",
        "  ax1.legend()\n",
        "  ax1.grid(True)\n",
        "\n",
        "  ax2.plot(history.history['accuracy'], label='accuracy')\n",
        "  ax2.plot(history.history['val_accuracy'], label='val_accuracy')\n",
        "  ax2.set_xlabel('Epoch')\n",
        "  ax2.set_ylabel('Accuracy')\n",
        "  ax2.legend()\n",
        "  ax2.grid(True)\n",
        "\n",
        "  plt.show()"
      ],
      "metadata": {
        "id": "FLO6Irr2JZ5L"
      },
      "execution_count": null,
      "outputs": []
    },
    {
      "cell_type": "code",
      "source": [
        "def train_model(X_train, y_train, num_nodes, dropout_prob, lr, batch_size, epochs):\n",
        "  nn_model = tf.keras.Sequential([\n",
        "      tf.keras.layers.Dense(num_nodes, activation='relu', input_shape=(10,)),\n",
        "      tf.keras.layers.Dropout(dropout_prob),\n",
        "      tf.keras.layers.Dense(num_nodes, activation='relu'),\n",
        "      tf.keras.layers.Dropout(dropout_prob),\n",
        "      tf.keras.layers.Dense(1, activation='sigmoid')\n",
        "  ])\n",
        "\n",
        "  nn_model.compile(optimizer=tf.keras.optimizers.Adam(lr), loss='binary_crossentropy',\n",
        "                  metrics=['accuracy'])\n",
        "  history = nn_model.fit(\n",
        "    X_train, y_train, epochs=epochs, batch_size=batch_size, validation_split=0.2, verbose=0\n",
        "  )\n",
        "\n",
        "  return nn_model, history"
      ],
      "metadata": {
        "id": "LEKPMf25H4ya"
      },
      "execution_count": null,
      "outputs": []
    },
    {
      "cell_type": "code",
      "source": [],
      "metadata": {
        "colab": {
          "base_uri": "https://localhost:8080/"
        },
        "id": "6UbF48YpKyBN",
        "outputId": "504d0daf-09fc-4c46-cb61-c30735860ef4"
      },
      "execution_count": null,
      "outputs": [
        {
          "output_type": "stream",
          "name": "stdout",
          "text": [
            "Epoch 1/100\n",
            "372/372 [==============================] - 2s 4ms/step - loss: 0.4479 - accuracy: 0.7940 - val_loss: 0.5646 - val_accuracy: 0.6825\n",
            "Epoch 2/100\n",
            "372/372 [==============================] - 1s 3ms/step - loss: 0.3738 - accuracy: 0.8425 - val_loss: 0.5109 - val_accuracy: 0.7303\n",
            "Epoch 3/100\n",
            "372/372 [==============================] - 1s 3ms/step - loss: 0.3537 - accuracy: 0.8524 - val_loss: 0.4746 - val_accuracy: 0.7532\n",
            "Epoch 4/100\n",
            "372/372 [==============================] - 1s 3ms/step - loss: 0.3447 - accuracy: 0.8570 - val_loss: 0.4702 - val_accuracy: 0.7562\n",
            "Epoch 5/100\n",
            "372/372 [==============================] - 1s 3ms/step - loss: 0.3370 - accuracy: 0.8597 - val_loss: 0.4754 - val_accuracy: 0.7545\n",
            "Epoch 6/100\n",
            "372/372 [==============================] - 1s 3ms/step - loss: 0.3320 - accuracy: 0.8601 - val_loss: 0.4685 - val_accuracy: 0.7599\n",
            "Epoch 7/100\n",
            "372/372 [==============================] - 1s 3ms/step - loss: 0.3280 - accuracy: 0.8627 - val_loss: 0.5301 - val_accuracy: 0.7239\n",
            "Epoch 8/100\n",
            "372/372 [==============================] - 1s 3ms/step - loss: 0.3243 - accuracy: 0.8638 - val_loss: 0.5119 - val_accuracy: 0.7229\n",
            "Epoch 9/100\n",
            "372/372 [==============================] - 1s 3ms/step - loss: 0.3213 - accuracy: 0.8640 - val_loss: 0.4747 - val_accuracy: 0.7508\n",
            "Epoch 10/100\n",
            "372/372 [==============================] - 1s 3ms/step - loss: 0.3200 - accuracy: 0.8647 - val_loss: 0.4800 - val_accuracy: 0.7424\n",
            "Epoch 11/100\n",
            "372/372 [==============================] - 1s 3ms/step - loss: 0.3171 - accuracy: 0.8659 - val_loss: 0.5072 - val_accuracy: 0.7374\n",
            "Epoch 12/100\n",
            "372/372 [==============================] - 1s 3ms/step - loss: 0.3144 - accuracy: 0.8673 - val_loss: 0.4303 - val_accuracy: 0.7684\n",
            "Epoch 13/100\n",
            "372/372 [==============================] - 1s 3ms/step - loss: 0.3127 - accuracy: 0.8697 - val_loss: 0.4052 - val_accuracy: 0.7872\n",
            "Epoch 14/100\n",
            "372/372 [==============================] - 1s 3ms/step - loss: 0.3115 - accuracy: 0.8708 - val_loss: 0.3591 - val_accuracy: 0.8128\n",
            "Epoch 15/100\n",
            "372/372 [==============================] - 1s 3ms/step - loss: 0.3094 - accuracy: 0.8701 - val_loss: 0.4950 - val_accuracy: 0.7404\n",
            "Epoch 16/100\n",
            "372/372 [==============================] - 1s 3ms/step - loss: 0.3071 - accuracy: 0.8697 - val_loss: 0.4204 - val_accuracy: 0.7771\n",
            "Epoch 17/100\n",
            "372/372 [==============================] - 1s 3ms/step - loss: 0.3053 - accuracy: 0.8741 - val_loss: 0.4445 - val_accuracy: 0.7582\n",
            "Epoch 18/100\n",
            "372/372 [==============================] - 1s 3ms/step - loss: 0.3046 - accuracy: 0.8729 - val_loss: 0.4950 - val_accuracy: 0.7475\n",
            "Epoch 19/100\n",
            "372/372 [==============================] - 1s 2ms/step - loss: 0.3036 - accuracy: 0.8727 - val_loss: 0.4165 - val_accuracy: 0.7771\n",
            "Epoch 20/100\n",
            "372/372 [==============================] - 1s 3ms/step - loss: 0.3022 - accuracy: 0.8735 - val_loss: 0.4372 - val_accuracy: 0.7737\n",
            "Epoch 21/100\n",
            "372/372 [==============================] - 1s 3ms/step - loss: 0.3016 - accuracy: 0.8733 - val_loss: 0.4356 - val_accuracy: 0.7677\n",
            "Epoch 22/100\n",
            "372/372 [==============================] - 1s 3ms/step - loss: 0.3004 - accuracy: 0.8734 - val_loss: 0.5059 - val_accuracy: 0.7384\n",
            "Epoch 23/100\n",
            "372/372 [==============================] - 1s 3ms/step - loss: 0.2991 - accuracy: 0.8750 - val_loss: 0.4444 - val_accuracy: 0.7650\n",
            "Epoch 24/100\n",
            "372/372 [==============================] - 1s 2ms/step - loss: 0.2992 - accuracy: 0.8752 - val_loss: 0.3523 - val_accuracy: 0.8125\n",
            "Epoch 25/100\n",
            "372/372 [==============================] - 1s 3ms/step - loss: 0.2979 - accuracy: 0.8750 - val_loss: 0.4089 - val_accuracy: 0.7801\n",
            "Epoch 26/100\n",
            "372/372 [==============================] - 1s 3ms/step - loss: 0.2959 - accuracy: 0.8753 - val_loss: 0.4930 - val_accuracy: 0.7438\n",
            "Epoch 27/100\n",
            "372/372 [==============================] - 1s 3ms/step - loss: 0.2957 - accuracy: 0.8771 - val_loss: 0.3548 - val_accuracy: 0.8141\n",
            "Epoch 28/100\n",
            "372/372 [==============================] - 1s 3ms/step - loss: 0.2943 - accuracy: 0.8764 - val_loss: 0.4257 - val_accuracy: 0.7785\n",
            "Epoch 29/100\n",
            "372/372 [==============================] - 1s 3ms/step - loss: 0.2938 - accuracy: 0.8783 - val_loss: 0.3843 - val_accuracy: 0.8030\n",
            "Epoch 30/100\n",
            "372/372 [==============================] - 1s 3ms/step - loss: 0.2930 - accuracy: 0.8768 - val_loss: 0.3920 - val_accuracy: 0.7973\n",
            "Epoch 31/100\n",
            "372/372 [==============================] - 1s 3ms/step - loss: 0.2922 - accuracy: 0.8767 - val_loss: 0.3903 - val_accuracy: 0.7990\n",
            "Epoch 32/100\n",
            "372/372 [==============================] - 1s 2ms/step - loss: 0.2903 - accuracy: 0.8795 - val_loss: 0.4209 - val_accuracy: 0.7811\n",
            "Epoch 33/100\n",
            "372/372 [==============================] - 1s 3ms/step - loss: 0.2900 - accuracy: 0.8784 - val_loss: 0.4477 - val_accuracy: 0.7721\n",
            "Epoch 34/100\n",
            "372/372 [==============================] - 1s 2ms/step - loss: 0.2898 - accuracy: 0.8797 - val_loss: 0.4532 - val_accuracy: 0.7582\n",
            "Epoch 35/100\n",
            "372/372 [==============================] - 1s 3ms/step - loss: 0.2894 - accuracy: 0.8802 - val_loss: 0.3726 - val_accuracy: 0.8098\n",
            "Epoch 36/100\n",
            "372/372 [==============================] - 1s 2ms/step - loss: 0.2881 - accuracy: 0.8782 - val_loss: 0.3904 - val_accuracy: 0.8020\n",
            "Epoch 37/100\n",
            "372/372 [==============================] - 1s 3ms/step - loss: 0.2870 - accuracy: 0.8791 - val_loss: 0.3928 - val_accuracy: 0.7936\n",
            "Epoch 38/100\n",
            "372/372 [==============================] - 1s 3ms/step - loss: 0.2870 - accuracy: 0.8802 - val_loss: 0.3680 - val_accuracy: 0.8067\n",
            "Epoch 39/100\n",
            "372/372 [==============================] - 1s 3ms/step - loss: 0.2862 - accuracy: 0.8817 - val_loss: 0.4419 - val_accuracy: 0.7791\n",
            "Epoch 40/100\n",
            "372/372 [==============================] - 1s 3ms/step - loss: 0.2863 - accuracy: 0.8796 - val_loss: 0.3781 - val_accuracy: 0.8054\n",
            "Epoch 41/100\n",
            "372/372 [==============================] - 1s 3ms/step - loss: 0.2851 - accuracy: 0.8808 - val_loss: 0.4500 - val_accuracy: 0.7737\n",
            "Epoch 42/100\n",
            "372/372 [==============================] - 1s 3ms/step - loss: 0.2852 - accuracy: 0.8803 - val_loss: 0.3765 - val_accuracy: 0.8074\n",
            "Epoch 43/100\n",
            "372/372 [==============================] - 1s 3ms/step - loss: 0.2839 - accuracy: 0.8827 - val_loss: 0.3595 - val_accuracy: 0.8131\n",
            "Epoch 44/100\n",
            "372/372 [==============================] - 1s 3ms/step - loss: 0.2833 - accuracy: 0.8804 - val_loss: 0.4264 - val_accuracy: 0.7798\n",
            "Epoch 45/100\n",
            "372/372 [==============================] - 1s 3ms/step - loss: 0.2830 - accuracy: 0.8825 - val_loss: 0.3471 - val_accuracy: 0.8205\n",
            "Epoch 46/100\n",
            "372/372 [==============================] - 1s 3ms/step - loss: 0.2828 - accuracy: 0.8813 - val_loss: 0.4015 - val_accuracy: 0.7970\n",
            "Epoch 47/100\n",
            "372/372 [==============================] - 1s 3ms/step - loss: 0.2810 - accuracy: 0.8840 - val_loss: 0.3480 - val_accuracy: 0.8172\n",
            "Epoch 48/100\n",
            "372/372 [==============================] - 1s 2ms/step - loss: 0.2808 - accuracy: 0.8844 - val_loss: 0.3641 - val_accuracy: 0.8131\n",
            "Epoch 49/100\n",
            "372/372 [==============================] - 1s 3ms/step - loss: 0.2809 - accuracy: 0.8846 - val_loss: 0.4145 - val_accuracy: 0.7889\n",
            "Epoch 50/100\n",
            "372/372 [==============================] - 1s 3ms/step - loss: 0.2799 - accuracy: 0.8853 - val_loss: 0.4239 - val_accuracy: 0.7852\n",
            "Epoch 51/100\n",
            "372/372 [==============================] - 1s 3ms/step - loss: 0.2804 - accuracy: 0.8851 - val_loss: 0.3814 - val_accuracy: 0.8010\n",
            "Epoch 52/100\n",
            "372/372 [==============================] - 1s 3ms/step - loss: 0.2784 - accuracy: 0.8832 - val_loss: 0.4062 - val_accuracy: 0.7943\n",
            "Epoch 53/100\n",
            "372/372 [==============================] - 1s 3ms/step - loss: 0.2776 - accuracy: 0.8835 - val_loss: 0.3930 - val_accuracy: 0.7963\n",
            "Epoch 54/100\n",
            "372/372 [==============================] - 1s 3ms/step - loss: 0.2776 - accuracy: 0.8849 - val_loss: 0.3876 - val_accuracy: 0.7953\n",
            "Epoch 55/100\n",
            "372/372 [==============================] - 1s 2ms/step - loss: 0.2789 - accuracy: 0.8840 - val_loss: 0.4359 - val_accuracy: 0.7832\n",
            "Epoch 56/100\n",
            "372/372 [==============================] - 1s 3ms/step - loss: 0.2770 - accuracy: 0.8848 - val_loss: 0.3995 - val_accuracy: 0.7933\n",
            "Epoch 57/100\n",
            "372/372 [==============================] - 1s 3ms/step - loss: 0.2776 - accuracy: 0.8841 - val_loss: 0.3837 - val_accuracy: 0.8007\n",
            "Epoch 58/100\n",
            "372/372 [==============================] - 1s 3ms/step - loss: 0.2768 - accuracy: 0.8851 - val_loss: 0.3908 - val_accuracy: 0.7953\n",
            "Epoch 59/100\n",
            "372/372 [==============================] - 1s 3ms/step - loss: 0.2764 - accuracy: 0.8841 - val_loss: 0.3943 - val_accuracy: 0.8000\n",
            "Epoch 60/100\n",
            "372/372 [==============================] - 1s 3ms/step - loss: 0.2765 - accuracy: 0.8840 - val_loss: 0.3797 - val_accuracy: 0.8071\n",
            "Epoch 61/100\n",
            "372/372 [==============================] - 1s 3ms/step - loss: 0.2752 - accuracy: 0.8867 - val_loss: 0.4030 - val_accuracy: 0.7899\n",
            "Epoch 62/100\n",
            "372/372 [==============================] - 1s 3ms/step - loss: 0.2740 - accuracy: 0.8867 - val_loss: 0.3787 - val_accuracy: 0.7987\n",
            "Epoch 63/100\n",
            "372/372 [==============================] - 1s 3ms/step - loss: 0.2750 - accuracy: 0.8859 - val_loss: 0.3670 - val_accuracy: 0.8145\n",
            "Epoch 64/100\n",
            "372/372 [==============================] - 1s 2ms/step - loss: 0.2741 - accuracy: 0.8856 - val_loss: 0.4039 - val_accuracy: 0.7916\n",
            "Epoch 65/100\n",
            "372/372 [==============================] - 1s 3ms/step - loss: 0.2741 - accuracy: 0.8855 - val_loss: 0.2974 - val_accuracy: 0.8451\n",
            "Epoch 66/100\n",
            "372/372 [==============================] - 1s 3ms/step - loss: 0.2741 - accuracy: 0.8864 - val_loss: 0.4032 - val_accuracy: 0.7909\n",
            "Epoch 67/100\n",
            "372/372 [==============================] - 1s 2ms/step - loss: 0.2719 - accuracy: 0.8864 - val_loss: 0.4048 - val_accuracy: 0.7912\n",
            "Epoch 68/100\n",
            "372/372 [==============================] - 1s 3ms/step - loss: 0.2724 - accuracy: 0.8867 - val_loss: 0.3479 - val_accuracy: 0.8145\n",
            "Epoch 69/100\n",
            "372/372 [==============================] - 1s 3ms/step - loss: 0.2720 - accuracy: 0.8883 - val_loss: 0.3864 - val_accuracy: 0.8044\n",
            "Epoch 70/100\n",
            "372/372 [==============================] - 1s 3ms/step - loss: 0.2711 - accuracy: 0.8880 - val_loss: 0.3887 - val_accuracy: 0.8074\n",
            "Epoch 71/100\n",
            "372/372 [==============================] - 1s 3ms/step - loss: 0.2727 - accuracy: 0.8869 - val_loss: 0.3598 - val_accuracy: 0.8175\n",
            "Epoch 72/100\n",
            "372/372 [==============================] - 1s 3ms/step - loss: 0.2706 - accuracy: 0.8884 - val_loss: 0.3924 - val_accuracy: 0.8047\n",
            "Epoch 73/100\n",
            "372/372 [==============================] - 1s 3ms/step - loss: 0.2716 - accuracy: 0.8865 - val_loss: 0.4321 - val_accuracy: 0.7667\n",
            "Epoch 74/100\n",
            "372/372 [==============================] - 1s 2ms/step - loss: 0.2704 - accuracy: 0.8873 - val_loss: 0.3519 - val_accuracy: 0.8158\n",
            "Epoch 75/100\n",
            "372/372 [==============================] - 1s 2ms/step - loss: 0.2693 - accuracy: 0.8903 - val_loss: 0.4401 - val_accuracy: 0.7764\n",
            "Epoch 76/100\n",
            "372/372 [==============================] - 1s 3ms/step - loss: 0.2693 - accuracy: 0.8895 - val_loss: 0.3775 - val_accuracy: 0.8114\n",
            "Epoch 77/100\n",
            "372/372 [==============================] - 1s 3ms/step - loss: 0.2695 - accuracy: 0.8868 - val_loss: 0.4032 - val_accuracy: 0.7990\n",
            "Epoch 78/100\n",
            "372/372 [==============================] - 1s 3ms/step - loss: 0.2684 - accuracy: 0.8881 - val_loss: 0.4556 - val_accuracy: 0.7684\n",
            "Epoch 79/100\n",
            "372/372 [==============================] - 1s 2ms/step - loss: 0.2684 - accuracy: 0.8873 - val_loss: 0.4095 - val_accuracy: 0.7980\n",
            "Epoch 80/100\n",
            "372/372 [==============================] - 1s 3ms/step - loss: 0.2672 - accuracy: 0.8877 - val_loss: 0.3681 - val_accuracy: 0.8111\n",
            "Epoch 81/100\n",
            "372/372 [==============================] - 1s 2ms/step - loss: 0.2684 - accuracy: 0.8873 - val_loss: 0.3929 - val_accuracy: 0.8020\n",
            "Epoch 82/100\n",
            "372/372 [==============================] - 1s 3ms/step - loss: 0.2674 - accuracy: 0.8899 - val_loss: 0.4107 - val_accuracy: 0.7943\n",
            "Epoch 83/100\n",
            "372/372 [==============================] - 1s 3ms/step - loss: 0.2672 - accuracy: 0.8907 - val_loss: 0.4344 - val_accuracy: 0.7822\n",
            "Epoch 84/100\n",
            "372/372 [==============================] - 1s 3ms/step - loss: 0.2657 - accuracy: 0.8895 - val_loss: 0.3272 - val_accuracy: 0.8269\n",
            "Epoch 85/100\n",
            "372/372 [==============================] - 1s 3ms/step - loss: 0.2661 - accuracy: 0.8898 - val_loss: 0.3958 - val_accuracy: 0.7956\n",
            "Epoch 86/100\n",
            "372/372 [==============================] - 1s 2ms/step - loss: 0.2654 - accuracy: 0.8905 - val_loss: 0.3341 - val_accuracy: 0.8236\n",
            "Epoch 87/100\n",
            "372/372 [==============================] - 1s 2ms/step - loss: 0.2647 - accuracy: 0.8906 - val_loss: 0.4274 - val_accuracy: 0.7886\n",
            "Epoch 88/100\n",
            "372/372 [==============================] - 1s 2ms/step - loss: 0.2649 - accuracy: 0.8913 - val_loss: 0.4104 - val_accuracy: 0.7906\n",
            "Epoch 89/100\n",
            "372/372 [==============================] - 1s 2ms/step - loss: 0.2650 - accuracy: 0.8916 - val_loss: 0.3808 - val_accuracy: 0.8054\n",
            "Epoch 90/100\n",
            "372/372 [==============================] - 1s 2ms/step - loss: 0.2631 - accuracy: 0.8898 - val_loss: 0.3550 - val_accuracy: 0.8165\n",
            "Epoch 91/100\n",
            "372/372 [==============================] - 1s 2ms/step - loss: 0.2646 - accuracy: 0.8924 - val_loss: 0.3758 - val_accuracy: 0.8071\n",
            "Epoch 92/100\n",
            "372/372 [==============================] - 1s 3ms/step - loss: 0.2623 - accuracy: 0.8910 - val_loss: 0.3849 - val_accuracy: 0.7980\n",
            "Epoch 93/100\n",
            "372/372 [==============================] - 1s 3ms/step - loss: 0.2636 - accuracy: 0.8910 - val_loss: 0.4247 - val_accuracy: 0.7882\n",
            "Epoch 94/100\n",
            "372/372 [==============================] - 1s 3ms/step - loss: 0.2628 - accuracy: 0.8901 - val_loss: 0.3367 - val_accuracy: 0.8212\n",
            "Epoch 95/100\n",
            "372/372 [==============================] - 1s 3ms/step - loss: 0.2616 - accuracy: 0.8920 - val_loss: 0.4036 - val_accuracy: 0.7993\n",
            "Epoch 96/100\n",
            "372/372 [==============================] - 1s 3ms/step - loss: 0.2613 - accuracy: 0.8928 - val_loss: 0.3559 - val_accuracy: 0.8185\n",
            "Epoch 97/100\n",
            "372/372 [==============================] - 1s 3ms/step - loss: 0.2629 - accuracy: 0.8910 - val_loss: 0.4078 - val_accuracy: 0.7929\n",
            "Epoch 98/100\n",
            "372/372 [==============================] - 1s 3ms/step - loss: 0.2613 - accuracy: 0.8905 - val_loss: 0.3229 - val_accuracy: 0.8306\n",
            "Epoch 99/100\n",
            "372/372 [==============================] - 1s 3ms/step - loss: 0.2607 - accuracy: 0.8927 - val_loss: 0.3473 - val_accuracy: 0.8195\n",
            "Epoch 100/100\n",
            "372/372 [==============================] - 1s 3ms/step - loss: 0.2605 - accuracy: 0.8926 - val_loss: 0.4259 - val_accuracy: 0.7848\n"
          ]
        }
      ]
    },
    {
      "cell_type": "code",
      "source": [
        "plot_loss(history)\n",
        "plot_accuracy(history)"
      ],
      "metadata": {
        "id": "bhvzgf6yK_5s",
        "colab": {
          "base_uri": "https://localhost:8080/",
          "height": 542
        },
        "outputId": "e8cfb920-ab8d-4042-9b25-423489225470"
      },
      "execution_count": null,
      "outputs": [
        {
          "output_type": "display_data",
          "data": {
            "text/plain": [
              "<Figure size 432x288 with 1 Axes>"
            ],
            "image/png": "[encoded data removed]"
          },
          "metadata": {
            "needs_background": "light"
          }
        },
        {
          "output_type": "display_data",
          "data": {
            "text/plain": [
              "<Figure size 432x288 with 1 Axes>"
            ],
            "image/png": "[encoded data removed]"
          },
          "metadata": {
            "needs_background": "light"
          }
        }
      ]
    },
    {
      "cell_type": "code",
      "source": [
        "least_val_loss = float('inf')\n",
        "least_loss_model = None\n",
        "epochs = 100\n",
        "for num_nodes in [16, 32, 64]:\n",
        "  for dropout_prob in [0, 0.2]:\n",
        "    for lr in [0.01, 0.005, 0.001]:\n",
        "      for batch_size in [32, 64, 128]:\n",
        "        print(f\"{num_nodes} nodes, dropout prob {dropout_prob}, lr {lr}, batch size {batch_size}\")\n",
        "        model, history = train_model(X_train, y_train, num_nodes, dropout_prob, lr, batch_size, epochs)\n",
        "        plot_history(history)\n",
        "        val_loss = model.evaluate(X_valid, y_valid)[0]\n",
        "        if val_loss < least_val_loss:\n",
        "          least_val_loss = val_loss\n",
        "          least_loss_model = model\n"
      ],
      "metadata": {
        "colab": {
          "base_uri": "https://localhost:8080/"
        },
        "id": "K9c1qrw8-3o-",
        "outputId": "7f179e5b-6266-44ba-ba08-d1c2c367847b"
      },
      "execution_count": null,
      "outputs": [
        {
          "output_type": "stream",
          "name": "stdout",
          "text": [
            "16 nodes, dropout prob 0, lr 0.01, batch size 32\n"
          ]
        }
      ]
    },
    {
      "cell_type": "code",
      "source": [],
      "metadata": {
        "id": "RBZFS_NWEPsU"
      },
      "execution_count": null,
      "outputs": []
    }
  ]
}